{
 "cells": [
  {
   "cell_type": "code",
   "execution_count": 38,
   "id": "9ad79153-70c1-4e22-97c1-a1d94d2e216a",
   "metadata": {},
   "outputs": [],
   "source": [
    "import pandas as pd\n",
    "import numpy as np\n",
    "from sklearn.utils import shuffle\n",
    "from sklearn.preprocessing import LabelEncoder, StandardScaler\n",
    "from sklearn.model_selection import train_test_split\n",
    "from sklearn.metrics import classification_report, accuracy_score\n",
    "import torch\n",
    "import torch.nn as nn\n",
    "import torch.optim as optim\n",
    "import torch.nn.functional as F\n",
    "from torch.utils.data import DataLoader, TensorDataset\n",
    "import sys"
   ]
  },
  {
   "cell_type": "code",
   "execution_count": 27,
   "id": "74bf8a03-ae22-4c83-b819-2273c7fcfa98",
   "metadata": {},
   "outputs": [],
   "source": [
    "num_class = 15\n",
    "\n",
    "class CNN(nn.Module):\n",
    "    def __init__(self):\n",
    "        super(CNN, self).__init__()\n",
    "        self.conv1 = nn.Conv1d(1, 64, kernel_size=3, padding=1)\n",
    "        self.conv2 = nn.Conv1d(64, 32, kernel_size=3, padding=1)\n",
    "        self.conv3 = nn.Conv1d(32, 16, kernel_size=3, padding=1)        \n",
    "        self.fc1 = nn.Linear(39 * 16, 30)\n",
    "        self.out_layer = nn.Linear(30, num_class)\n",
    "\n",
    "    def forward(self, x):\n",
    "        x = F.relu(self.conv1(x))\n",
    "        x = F.relu(self.conv2(x))\n",
    "        x = F.relu(self.conv3(x))\n",
    "        x = F.max_pool1d(x, kernel_size=1)\n",
    "        x = x.view(x.size(0), -1)\n",
    "        x = F.relu(self.fc1(x))\n",
    "        return F.log_softmax(self.out_layer(x), dim=1)"
   ]
  },
  {
   "cell_type": "code",
   "execution_count": 28,
   "id": "11e9a46f-41ee-472c-9fbc-13e6d947ab1c",
   "metadata": {},
   "outputs": [
    {
     "data": {
      "text/plain": [
       "<All keys matched successfully>"
      ]
     },
     "execution_count": 28,
     "metadata": {},
     "output_type": "execute_result"
    }
   ],
   "source": [
    "saved_model=CNN()\n",
    "saved_model.load_state_dict(torch.load('tuesday_model.pth'))"
   ]
  },
  {
   "cell_type": "code",
   "execution_count": 18,
   "id": "af7a2109-31db-4674-ab00-c88b8e057cce",
   "metadata": {},
   "outputs": [
    {
     "data": {
      "text/plain": [
       "CNN(\n",
       "  (conv1): Conv1d(1, 64, kernel_size=(3,), stride=(1,), padding=(1,))\n",
       "  (conv2): Conv1d(64, 32, kernel_size=(3,), stride=(1,), padding=(1,))\n",
       "  (conv3): Conv1d(32, 16, kernel_size=(3,), stride=(1,), padding=(1,))\n",
       "  (fc1): Linear(in_features=624, out_features=30, bias=True)\n",
       "  (out_layer): Linear(in_features=30, out_features=15, bias=True)\n",
       ")"
      ]
     },
     "execution_count": 18,
     "metadata": {},
     "output_type": "execute_result"
    }
   ],
   "source": [
    "saved_model.eval()"
   ]
  },
  {
   "cell_type": "code",
   "execution_count": 39,
   "id": "864ca7f3-0554-4088-b259-cbfb0f2c44c9",
   "metadata": {},
   "outputs": [
    {
     "data": {
      "text/html": [
       "<div>\n",
       "<style scoped>\n",
       "    .dataframe tbody tr th:only-of-type {\n",
       "        vertical-align: middle;\n",
       "    }\n",
       "\n",
       "    .dataframe tbody tr th {\n",
       "        vertical-align: top;\n",
       "    }\n",
       "\n",
       "    .dataframe thead th {\n",
       "        text-align: right;\n",
       "    }\n",
       "</style>\n",
       "<table border=\"1\" class=\"dataframe\">\n",
       "  <thead>\n",
       "    <tr style=\"text-align: right;\">\n",
       "      <th></th>\n",
       "      <th>frame.time</th>\n",
       "      <th>ip.src_host</th>\n",
       "      <th>ip.dst_host</th>\n",
       "      <th>arp.dst.proto_ipv4</th>\n",
       "      <th>arp.opcode</th>\n",
       "      <th>arp.hw.size</th>\n",
       "      <th>arp.src.proto_ipv4</th>\n",
       "      <th>icmp.checksum</th>\n",
       "      <th>icmp.seq_le</th>\n",
       "      <th>icmp.transmit_timestamp</th>\n",
       "      <th>...</th>\n",
       "      <th>mqtt.proto_len</th>\n",
       "      <th>mqtt.protoname</th>\n",
       "      <th>mqtt.topic</th>\n",
       "      <th>mqtt.topic_len</th>\n",
       "      <th>mqtt.ver</th>\n",
       "      <th>mbtcp.len</th>\n",
       "      <th>mbtcp.trans_id</th>\n",
       "      <th>mbtcp.unit_id</th>\n",
       "      <th>Attack_label</th>\n",
       "      <th>Attack_type</th>\n",
       "    </tr>\n",
       "  </thead>\n",
       "  <tbody>\n",
       "    <tr>\n",
       "      <th>0</th>\n",
       "      <td>255.16.17.190</td>\n",
       "      <td>192.168.0.128</td>\n",
       "      <td>0</td>\n",
       "      <td>0</td>\n",
       "      <td>0.0</td>\n",
       "      <td>0</td>\n",
       "      <td>0.0</td>\n",
       "      <td>0.0</td>\n",
       "      <td>0</td>\n",
       "      <td>0.0</td>\n",
       "      <td>...</td>\n",
       "      <td>0.0</td>\n",
       "      <td>0.0</td>\n",
       "      <td>0.0</td>\n",
       "      <td>0.0</td>\n",
       "      <td>0.0</td>\n",
       "      <td>0.0</td>\n",
       "      <td>0.0</td>\n",
       "      <td>0.0</td>\n",
       "      <td>1</td>\n",
       "      <td>DDoS_UDP</td>\n",
       "    </tr>\n",
       "    <tr>\n",
       "      <th>1</th>\n",
       "      <td>249.66.134.149</td>\n",
       "      <td>192.168.0.128</td>\n",
       "      <td>0</td>\n",
       "      <td>0</td>\n",
       "      <td>0.0</td>\n",
       "      <td>0</td>\n",
       "      <td>0.0</td>\n",
       "      <td>0.0</td>\n",
       "      <td>0</td>\n",
       "      <td>0.0</td>\n",
       "      <td>...</td>\n",
       "      <td>0.0</td>\n",
       "      <td>0.0</td>\n",
       "      <td>0.0</td>\n",
       "      <td>0.0</td>\n",
       "      <td>0.0</td>\n",
       "      <td>0.0</td>\n",
       "      <td>0.0</td>\n",
       "      <td>0.0</td>\n",
       "      <td>1</td>\n",
       "      <td>DDoS_UDP</td>\n",
       "    </tr>\n",
       "    <tr>\n",
       "      <th>2</th>\n",
       "      <td>124.167.185.238</td>\n",
       "      <td>192.168.0.128</td>\n",
       "      <td>0</td>\n",
       "      <td>0</td>\n",
       "      <td>0.0</td>\n",
       "      <td>0</td>\n",
       "      <td>0.0</td>\n",
       "      <td>0.0</td>\n",
       "      <td>0</td>\n",
       "      <td>0.0</td>\n",
       "      <td>...</td>\n",
       "      <td>0.0</td>\n",
       "      <td>0.0</td>\n",
       "      <td>0.0</td>\n",
       "      <td>0.0</td>\n",
       "      <td>0.0</td>\n",
       "      <td>0.0</td>\n",
       "      <td>0.0</td>\n",
       "      <td>0.0</td>\n",
       "      <td>1</td>\n",
       "      <td>DDoS_UDP</td>\n",
       "    </tr>\n",
       "    <tr>\n",
       "      <th>3</th>\n",
       "      <td>99.240.134.227</td>\n",
       "      <td>192.168.0.128</td>\n",
       "      <td>0</td>\n",
       "      <td>0</td>\n",
       "      <td>0.0</td>\n",
       "      <td>0</td>\n",
       "      <td>0.0</td>\n",
       "      <td>0.0</td>\n",
       "      <td>0</td>\n",
       "      <td>0.0</td>\n",
       "      <td>...</td>\n",
       "      <td>0.0</td>\n",
       "      <td>0.0</td>\n",
       "      <td>0.0</td>\n",
       "      <td>0.0</td>\n",
       "      <td>0.0</td>\n",
       "      <td>0.0</td>\n",
       "      <td>0.0</td>\n",
       "      <td>0.0</td>\n",
       "      <td>1</td>\n",
       "      <td>DDoS_UDP</td>\n",
       "    </tr>\n",
       "    <tr>\n",
       "      <th>4</th>\n",
       "      <td>99.195.163.196</td>\n",
       "      <td>192.168.0.128</td>\n",
       "      <td>0</td>\n",
       "      <td>0</td>\n",
       "      <td>0.0</td>\n",
       "      <td>0</td>\n",
       "      <td>0.0</td>\n",
       "      <td>0.0</td>\n",
       "      <td>0</td>\n",
       "      <td>0.0</td>\n",
       "      <td>...</td>\n",
       "      <td>0.0</td>\n",
       "      <td>0.0</td>\n",
       "      <td>0.0</td>\n",
       "      <td>0.0</td>\n",
       "      <td>0.0</td>\n",
       "      <td>0.0</td>\n",
       "      <td>0.0</td>\n",
       "      <td>0.0</td>\n",
       "      <td>1</td>\n",
       "      <td>DDoS_UDP</td>\n",
       "    </tr>\n",
       "  </tbody>\n",
       "</table>\n",
       "<p>5 rows × 63 columns</p>\n",
       "</div>"
      ],
      "text/plain": [
       "        frame.time    ip.src_host ip.dst_host arp.dst.proto_ipv4  arp.opcode  \\\n",
       "0    255.16.17.190  192.168.0.128           0                  0         0.0   \n",
       "1   249.66.134.149  192.168.0.128           0                  0         0.0   \n",
       "2  124.167.185.238  192.168.0.128           0                  0         0.0   \n",
       "3   99.240.134.227  192.168.0.128           0                  0         0.0   \n",
       "4   99.195.163.196  192.168.0.128           0                  0         0.0   \n",
       "\n",
       "  arp.hw.size  arp.src.proto_ipv4  icmp.checksum icmp.seq_le  \\\n",
       "0           0                 0.0            0.0           0   \n",
       "1           0                 0.0            0.0           0   \n",
       "2           0                 0.0            0.0           0   \n",
       "3           0                 0.0            0.0           0   \n",
       "4           0                 0.0            0.0           0   \n",
       "\n",
       "   icmp.transmit_timestamp  ...  mqtt.proto_len  mqtt.protoname  mqtt.topic  \\\n",
       "0                      0.0  ...             0.0             0.0         0.0   \n",
       "1                      0.0  ...             0.0             0.0         0.0   \n",
       "2                      0.0  ...             0.0             0.0         0.0   \n",
       "3                      0.0  ...             0.0             0.0         0.0   \n",
       "4                      0.0  ...             0.0             0.0         0.0   \n",
       "\n",
       "   mqtt.topic_len  mqtt.ver  mbtcp.len  mbtcp.trans_id  mbtcp.unit_id  \\\n",
       "0             0.0       0.0        0.0             0.0            0.0   \n",
       "1             0.0       0.0        0.0             0.0            0.0   \n",
       "2             0.0       0.0        0.0             0.0            0.0   \n",
       "3             0.0       0.0        0.0             0.0            0.0   \n",
       "4             0.0       0.0        0.0             0.0            0.0   \n",
       "\n",
       "   Attack_label  Attack_type  \n",
       "0             1     DDoS_UDP  \n",
       "1             1     DDoS_UDP  \n",
       "2             1     DDoS_UDP  \n",
       "3             1     DDoS_UDP  \n",
       "4             1     DDoS_UDP  \n",
       "\n",
       "[5 rows x 63 columns]"
      ]
     },
     "execution_count": 39,
     "metadata": {},
     "output_type": "execute_result"
    }
   ],
   "source": [
    "data_path = 'F:/Documents/CRCE/Project/NIDS/dataset/Edge-IIoT/Edge-IIoTset dataset/Attack traffic/DDoS_UDP_Flood_attack.csv'  # Replace with your actual path\n",
    "df = pd.read_csv(data_path, low_memory=False)\n",
    "df.head()"
   ]
  },
  {
   "cell_type": "code",
   "execution_count": 40,
   "id": "4a607606-a0a9-4d45-9bde-d10dc3b6412e",
   "metadata": {},
   "outputs": [],
   "source": [
    "# Drop unnecessary columns\n",
    "drop_columns = [\n",
    "    \"frame.time\", \"ip.src_host\", \"ip.dst_host\", \"arp.src.proto_ipv4\", \"arp.dst.proto_ipv4\",\n",
    "    \"http.file_data\", \"http.request.full_uri\", \"icmp.transmit_timestamp\", \"http.request.uri.query\",\n",
    "    \"tcp.options\", \"tcp.payload\", \"tcp.srcport\", \"tcp.dstport\", \"udp.port\", \"mqtt.msg\"\n",
    "]\n",
    "df.drop(drop_columns, axis=1, inplace=True, errors='ignore')\n",
    "\n",
    "# Remove NaNs and duplicates\n",
    "df.dropna(axis=0, how='any', inplace=True)\n",
    "df.drop_duplicates(subset=None, keep=\"first\", inplace=True)\n",
    "\n",
    "# Strip strings\n",
    "df = df.map(lambda x: x.strip() if isinstance(x, str) else x)\n",
    "\n",
    "# DO NOT shuffle here (this is for training only)\n",
    "# df = shuffle(df)\n",
    "\n",
    "# One-hot encode categorical columns\n",
    "def encode_text_dummy(df, name):\n",
    "    dummies = pd.get_dummies(df[name], prefix=name)\n",
    "    df = pd.concat([df, dummies], axis=1)\n",
    "    return df.drop(name, axis=1)\n",
    "\n",
    "for col in ['http.request.method', 'http.referer', 'http.request.version',\n",
    "            'dns.qry.name.len', 'mqtt.conack.flags', 'mqtt.protoname', 'mqtt.topic']:\n",
    "    if col in df.columns:\n",
    "        df = encode_text_dummy(df, col)\n",
    "\n",
    "# Save 'Attack_type' if present\n",
    "if 'Attack_type' in df.columns:\n",
    "    labels = df['Attack_type']\n",
    "else:\n",
    "    labels = None\n",
    "\n",
    "# Keep only numeric columns\n",
    "df = df.select_dtypes(include=[np.number]).copy()\n",
    "\n",
    "# Add back label for later comparison\n",
    "if labels is not None:\n",
    "    df['Attack_type'] = labels\n"
   ]
  },
  {
   "cell_type": "code",
   "execution_count": 41,
   "id": "b5b7f8d6-1773-46c8-b71a-236f94c4a1c2",
   "metadata": {},
   "outputs": [
    {
     "data": {
      "text/plain": [
       "39"
      ]
     },
     "execution_count": 41,
     "metadata": {},
     "output_type": "execute_result"
    }
   ],
   "source": [
    "len(df.columns)"
   ]
  },
  {
   "cell_type": "code",
   "execution_count": 42,
   "id": "9a11a295-d08d-4287-b044-60d607c2ed28",
   "metadata": {},
   "outputs": [],
   "source": [
    "# Separate labels and features\n",
    "if 'Attack_type' in df.columns:\n",
    "    labels = df['Attack_type']\n",
    "    df.drop(['Attack_type'], axis=1, inplace=True)\n",
    "else:\n",
    "    labels = None  # You might not have labels in inference\n",
    "\n",
    "# Drop 'Attack_label' if present\n",
    "df.drop(['Attack_label'], axis=1, inplace=True, errors='ignore')\n",
    "\n",
    "# Reindex to match training feature order (critical)\n",
    "feature_columns = joblib.load(\"feature_columns.pkl\")  # saved during training\n",
    "df = df.reindex(columns=feature_columns, fill_value=0)\n",
    "\n",
    "# Load the scaler and scale features\n",
    "scaler = joblib.load(\"scaler.pkl\")\n",
    "features_scaled = scaler.transform(df)\n",
    "\n",
    "# Convert to tensor with channel dim\n",
    "X = torch.tensor(features_scaled, dtype=torch.float32).unsqueeze(1)\n"
   ]
  },
  {
   "cell_type": "code",
   "execution_count": 48,
   "id": "6fb772e5-7f29-438c-806d-90770725ff3a",
   "metadata": {},
   "outputs": [
    {
     "data": {
      "text/plain": [
       "CNN(\n",
       "  (conv1): Conv1d(1, 64, kernel_size=(3,), stride=(1,), padding=(1,))\n",
       "  (conv2): Conv1d(64, 32, kernel_size=(3,), stride=(1,), padding=(1,))\n",
       "  (conv3): Conv1d(32, 16, kernel_size=(3,), stride=(1,), padding=(1,))\n",
       "  (fc1): Linear(in_features=624, out_features=30, bias=True)\n",
       "  (out_layer): Linear(in_features=30, out_features=15, bias=True)\n",
       ")"
      ]
     },
     "execution_count": 48,
     "metadata": {},
     "output_type": "execute_result"
    }
   ],
   "source": [
    "import joblib\n",
    "import torch\n",
    "\n",
    "# Load training-time artifacts\n",
    "feature_columns = joblib.load(\"feature_columns.pkl\")\n",
    "scaler = joblib.load(\"scaler.pkl\")\n",
    "label_encoder = joblib.load(\"label_encoder.pkl\")\n",
    "\n",
    "# Align current dataframe's columns to match training\n",
    "df = df.reindex(columns=feature_columns, fill_value=0)\n",
    "\n",
    "# Apply scaling (again)\n",
    "features_scaled = scaler.transform(df)\n",
    "\n",
    "# Convert to tensor\n",
    "X_attack = torch.tensor(features_scaled, dtype=torch.float32).unsqueeze(1)  # (batch_size, 1, num_features)\n",
    "\n",
    "# Load the model architecture and weights\n",
    "saved_model=CNN()\n",
    "saved_model.load_state_dict(torch.load('tuesday_model.pth'))\n",
    "saved_model.eval()  # Put model in evaluation mode\n"
   ]
  },
  {
   "cell_type": "code",
   "execution_count": 49,
   "id": "ebaf8d4b-d782-487f-aef2-228baaacc90e",
   "metadata": {},
   "outputs": [
    {
     "name": "stdout",
     "output_type": "stream",
     "text": [
      "['DDoS_UDP' 'DDoS_UDP' 'DDoS_UDP' 'DDoS_UDP' 'DDoS_UDP' 'DDoS_UDP'\n",
      " 'DDoS_UDP' 'DDoS_UDP' 'DDoS_UDP' 'DDoS_UDP']\n"
     ]
    }
   ],
   "source": [
    "with torch.no_grad():\n",
    "    outputs = saved_model(X_attack[:10])  # first 10 rows\n",
    "    _, predicted = torch.max(outputs, 1)\n",
    "    predicted_labels = label_encoder.inverse_transform(predicted.numpy())\n",
    "\n",
    "print(predicted_labels)\n"
   ]
  },
  {
   "cell_type": "code",
   "execution_count": 51,
   "id": "b3fcb200-5f99-47bf-8c3f-b04d704bfd09",
   "metadata": {},
   "outputs": [
    {
     "data": {
      "text/plain": [
       "tensor([[[-0.0034, -0.0036, -0.1663,  ..., -0.0082, -0.0077, -0.0074]],\n",
       "\n",
       "        [[-0.0034, -0.0036, -0.1663,  ..., -0.0082, -0.0077, -0.0074]],\n",
       "\n",
       "        [[-0.0034, -0.0036, -0.1663,  ..., -0.0082, -0.0077, -0.0074]],\n",
       "\n",
       "        ...,\n",
       "\n",
       "        [[-0.0034, -0.0036, -0.1663,  ..., -0.0082, -0.0077, -0.0074]],\n",
       "\n",
       "        [[-0.0034, -0.0036, -0.1663,  ..., -0.0082, -0.0077, -0.0074]],\n",
       "\n",
       "        [[-0.0034, -0.0036, -0.1663,  ..., -0.0082, -0.0077, -0.0074]]])"
      ]
     },
     "execution_count": 51,
     "metadata": {},
     "output_type": "execute_result"
    }
   ],
   "source": [
    "X_attack"
   ]
  }
 ],
 "metadata": {
  "kernelspec": {
   "display_name": "adi-kernel",
   "language": "python",
   "name": "adi-kernel"
  },
  "language_info": {
   "codemirror_mode": {
    "name": "ipython",
    "version": 3
   },
   "file_extension": ".py",
   "mimetype": "text/x-python",
   "name": "python",
   "nbconvert_exporter": "python",
   "pygments_lexer": "ipython3",
   "version": "3.12.6"
  }
 },
 "nbformat": 4,
 "nbformat_minor": 5
}
