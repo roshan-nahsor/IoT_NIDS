{
 "cells": [
  {
   "cell_type": "code",
   "execution_count": 1,
   "id": "74ee0e30-ba0d-42fc-8530-567780f16072",
   "metadata": {},
   "outputs": [],
   "source": [
    "import torch\n",
    "import numpy as np"
   ]
  },
  {
   "cell_type": "markdown",
   "id": "26800612-d04f-4af6-97b9-9930bd01de51",
   "metadata": {},
   "source": [
    "LIST"
   ]
  },
  {
   "cell_type": "code",
   "execution_count": 3,
   "id": "0451ea5c-90e0-44ff-a27e-636c4361e58d",
   "metadata": {},
   "outputs": [
    {
     "data": {
      "text/plain": [
       "[[1, 2, 3, 4], [1, 2, 3, 4]]"
      ]
     },
     "execution_count": 3,
     "metadata": {},
     "output_type": "execute_result"
    }
   ],
   "source": [
    "my_list=[[1,2,3,4], [1,2,3,4]]\n",
    "my_list"
   ]
  },
  {
   "cell_type": "markdown",
   "id": "300bad2a-f30b-49d4-9516-e0c9a5a6ff08",
   "metadata": {},
   "source": [
    "NUMPY ARRAY"
   ]
  },
  {
   "cell_type": "code",
   "execution_count": 4,
   "id": "fa91f18b-ac0c-40cd-87be-f4bd8312d589",
   "metadata": {},
   "outputs": [
    {
     "data": {
      "text/plain": [
       "array([[0.06706898, 0.19041808, 0.19382306, 0.67196755],\n",
       "       [0.00937444, 0.59559636, 0.63752838, 0.11995436],\n",
       "       [0.85154285, 0.68869065, 0.03100884, 0.62996893]])"
      ]
     },
     "execution_count": 4,
     "metadata": {},
     "output_type": "execute_result"
    }
   ],
   "source": [
    "array1=np.random.rand(3,4)\n",
    "array1"
   ]
  },
  {
   "cell_type": "code",
   "execution_count": 6,
   "id": "3c36427d-3452-46d9-b6e0-224caf454be7",
   "metadata": {},
   "outputs": [
    {
     "data": {
      "text/plain": [
       "dtype('float64')"
      ]
     },
     "execution_count": 6,
     "metadata": {},
     "output_type": "execute_result"
    }
   ],
   "source": [
    "array1.dtype"
   ]
  },
  {
   "cell_type": "markdown",
   "id": "6ba5c880-a075-4166-ac33-fa11a81835f9",
   "metadata": {},
   "source": [
    "TENSOR"
   ]
  },
  {
   "cell_type": "code",
   "execution_count": 7,
   "id": "0178ad43-4f62-4078-9cc0-e4556d895c44",
   "metadata": {},
   "outputs": [
    {
     "data": {
      "text/plain": [
       "tensor([[-0.4673, -0.1964, -0.1109, -0.5843],\n",
       "        [-0.8208,  0.4404, -3.0113, -1.1211],\n",
       "        [-0.8917,  1.6188, -0.4042,  0.4910]])"
      ]
     },
     "execution_count": 7,
     "metadata": {},
     "output_type": "execute_result"
    }
   ],
   "source": [
    "tenso_2d=torch.randn(3,4)\n",
    "tenso_2d"
   ]
  },
  {
   "cell_type": "code",
   "execution_count": 8,
   "id": "bcea9806-6f5d-41be-9bb6-3e6b1726a478",
   "metadata": {},
   "outputs": [
    {
     "data": {
      "text/plain": [
       "tensor([[[ 7.6315e-01, -1.3653e+00,  2.2810e+00,  1.5462e-01, -2.7469e+00],\n",
       "         [ 2.0479e-01, -2.7397e-01, -2.0680e-01, -1.6951e-01,  5.1619e-01],\n",
       "         [-1.5936e-01,  1.1599e-01, -1.2135e+00, -2.8236e-01,  8.5061e-01],\n",
       "         [-1.8346e-01, -5.2374e-01,  1.2461e+00,  1.2399e+00,  5.2316e-01]],\n",
       "\n",
       "        [[-1.9572e-01, -4.5709e-02, -5.2993e-01,  2.1612e-01, -9.1877e-01],\n",
       "         [-7.4275e-01, -8.9419e-01, -4.1695e-01,  1.1925e-01,  3.7330e-01],\n",
       "         [ 5.8603e-01,  2.1015e+00,  3.1318e-01,  6.0573e-01,  2.7651e-02],\n",
       "         [ 1.6003e-01,  2.1323e+00, -2.2721e-01,  1.3723e-01,  7.8908e-01]],\n",
       "\n",
       "        [[-6.7461e-01, -2.1107e+00,  3.6622e-01, -1.2437e+00, -5.4931e-01],\n",
       "         [ 5.2194e-02,  8.3331e-01,  7.8254e-01, -1.0411e+00, -1.7549e+00],\n",
       "         [-3.7445e-02,  1.6410e-03, -1.0044e+00,  2.0131e-01, -7.3264e-01],\n",
       "         [ 1.7031e+00, -1.5770e+00, -1.1366e+00, -1.2090e+00, -3.9592e-01]]])"
      ]
     },
     "execution_count": 8,
     "metadata": {},
     "output_type": "execute_result"
    }
   ],
   "source": [
    "tenso_3d=torch.randn(3,4,5)\n",
    "tenso_3d"
   ]
  }
 ],
 "metadata": {
  "kernelspec": {
   "display_name": "adi-kernel",
   "language": "python",
   "name": "adi-kernel"
  },
  "language_info": {
   "codemirror_mode": {
    "name": "ipython",
    "version": 3
   },
   "file_extension": ".py",
   "mimetype": "text/x-python",
   "name": "python",
   "nbconvert_exporter": "python",
   "pygments_lexer": "ipython3",
   "version": "3.12.6"
  }
 },
 "nbformat": 4,
 "nbformat_minor": 5
}
