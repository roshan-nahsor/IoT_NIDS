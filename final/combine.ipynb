{
 "cells": [
  {
   "cell_type": "code",
   "execution_count": 11,
   "id": "cd68b5c6-01fc-4904-9570-9910918327db",
   "metadata": {},
   "outputs": [],
   "source": [
    "import pandas as pd\n",
    "import numpy as np\n",
    "from scipy.stats import mode\n",
    "\n",
    "# Load CSV files\n",
    "df2 = pd.read_csv('predictions.csv')\n",
    "df1 = pd.read_csv('../CNN_predictions.csv')\n",
    "\n",
    "# Get first 20 columns and convert to numeric (if necessary)\n",
    "first_20_df1 = df1.iloc[:, :20].apply(pd.to_numeric, errors='coerce')\n",
    "first_20_df2 = df2.iloc[:, :20].apply(pd.to_numeric, errors='coerce')\n",
    "\n",
    "# Compute row-wise mode\n",
    "mode1 = mode(first_20_df1.values, axis=1, keepdims=False)[0]\n",
    "mode2 = mode(first_20_df2.values, axis=1, keepdims=False)[0]\n",
    "\n",
    "# Compute average of modes\n",
    "mode_avg = ((mode1 + mode2) / 2).round(2)\n",
    "# mode_avg = ((mode2) / 2).round(2)\n",
    "\n",
    "\n",
    "# Replace last column of df1\n",
    "df1.iloc[:, -1] = mode_avg\n",
    "\n",
    "# Save updated file1\n",
    "df1.to_csv('updated_file1.csv', index=False)\n"
   ]
  },
  {
   "cell_type": "code",
   "execution_count": 27,
   "id": "cbaade49-2461-4701-9a6e-a9ce0e7e6665",
   "metadata": {},
   "outputs": [
    {
     "data": {
      "text/plain": [
       "63"
      ]
     },
     "execution_count": 27,
     "metadata": {},
     "output_type": "execute_result"
    }
   ],
   "source": [
    "df1.shape[1]\n",
    "# df2.shape[1]\n"
   ]
  },
  {
   "cell_type": "code",
   "execution_count": 31,
   "id": "29f4150f-77dc-482d-bb08-879e6f9bf16d",
   "metadata": {},
   "outputs": [
    {
     "name": "stdout",
     "output_type": "stream",
     "text": [
      "Data type of the last column in df1: int64\n",
      "Data type of the last column in df2: int64\n"
     ]
    }
   ],
   "source": [
    "# Check the data type of the last column in both DataFrames\n",
    "print(f\"Data type of the last column in df1: {df1.iloc[:, -1].dtype}\")\n",
    "print(f\"Data type of the last column in df2: {df2.iloc[:, -1].dtype}\")\n"
   ]
  },
  {
   "cell_type": "code",
   "execution_count": 2,
   "id": "b008fc23-33c9-4c7f-8f4a-55749bc99246",
   "metadata": {},
   "outputs": [
    {
     "name": "stdout",
     "output_type": "stream",
     "text": [
      "Labeled output saved to 'labeled_output.csv'\n"
     ]
    }
   ],
   "source": [
    "import pandas as pd\n",
    "import numpy as np\n",
    "from scipy.stats import mode\n",
    "\n",
    "# Load the CSV files\n",
    "# df2 = pd.read_csv('predictions.csv')\n",
    "# df1 = pd.read_csv('../CNN_predictions.csv')\n",
    "\n",
    "df2 = pd.read_csv('presentation_predictions.csv')\n",
    "df1 = pd.read_csv('../presentation_CNN_predictions.csv')\n",
    "\n",
    "# Ensure we're working with the last column\n",
    "last_col_index = -1\n",
    "\n",
    "# Number of rows per chunk\n",
    "chunk_size = 20\n",
    "\n",
    "new_labels = []\n",
    "\n",
    "# Create a new list to store the average mode values for each chunk\n",
    "new_column_values = []\n",
    "\n",
    "# Iterate over chunks of 20 rows\n",
    "for start in range(0, len(df1), chunk_size):\n",
    "    end = min(start + chunk_size, len(df1))  # Handle the last chunk which may be smaller than 20\n",
    "    chunk1_last_col = df1.iloc[start:end, last_col_index]\n",
    "    chunk2_last_col = df2.iloc[start:end, last_col_index]\n",
    "\n",
    "    # Calculate the mode of the last column for both chunks\n",
    "    mode1_result = mode(chunk1_last_col)\n",
    "    mode2_result = mode(chunk2_last_col)\n",
    "\n",
    "    # Check if mode result is empty, and default to 0 if it is\n",
    "    # mode1 = mode1_result.mode[0] if mode1_result.mode.size > 0 else 0\n",
    "    # mode2 = mode2_result.mode[0] if mode2_result.mode.size > 0 else 0\n",
    "    \n",
    "    mode1 = mode1_result.mode\n",
    "    mode2 = mode2_result.mode\n",
    "\n",
    "    # print(mode1, mode2)\n",
    "\n",
    "    # Calculate the average of the two modes\n",
    "#     avg_mode = (mode1 + mode2) / 2\n",
    "#     new_column_values.extend([avg_mode] * (end - start)).astype(int)  # Repeat the average mode for the chunk length\n",
    "\n",
    "# # Add the new column to df1\n",
    "# df1['Attack_label'] = new_column_values[:len(df1)]  # Slice to match df1 length\n",
    "\n",
    "# # Save or display the updated dataframe\n",
    "# # print(df1.head())\n",
    "# df1.to_csv('updated_file1.csv', index=False)\n",
    "\n",
    "    # Average of the modes and round to 0 or 1\n",
    "    avg_label = round((mode1 + mode2) / 2)\n",
    "    \n",
    "    # Append the same label for each row in the chunk\n",
    "    new_labels.extend([avg_label] * (end - start))\n",
    "\n",
    "# Assign the new labels to the last column of df1 (or create a new column)\n",
    "df1 = df1.iloc[:len(new_labels)].copy()\n",
    "df1['Attack_label'] = np.array(new_labels).astype(int)  # Convert to int\n",
    "\n",
    "# Save result\n",
    "df1.to_csv('labeled_output.csv', index=False)\n",
    "print(\"Labeled output saved to 'labeled_output.csv'\")"
   ]
  },
  {
   "cell_type": "code",
   "execution_count": 50,
   "id": "1d256e22-b7e8-4a8d-8651-e9b8aa974fce",
   "metadata": {},
   "outputs": [
    {
     "data": {
      "text/plain": [
       "(4690, 63)"
      ]
     },
     "execution_count": 50,
     "metadata": {},
     "output_type": "execute_result"
    }
   ],
   "source": [
    "df1.shape\n",
    "# df2.shape"
   ]
  },
  {
   "cell_type": "code",
   "execution_count": 3,
   "id": "cb6c0738-7698-4bc2-9ebb-ffac564ed3be",
   "metadata": {},
   "outputs": [
    {
     "name": "stdout",
     "output_type": "stream",
     "text": [
      "Labeled output saved to 'labeled_output.csv'\n"
     ]
    }
   ],
   "source": [
    "import pandas as pd\n",
    "import numpy as np\n",
    "from scipy.stats import mode\n",
    "\n",
    "# Load the CSV files\n",
    "# df2 = pd.read_csv('predictions.csv')\n",
    "# df1 = pd.read_csv('../CNN_predictions.csv')\n",
    "\n",
    "\n",
    "df2 = pd.read_csv('presentation_predictions.csv')\n",
    "df1 = pd.read_csv('../presentation_CNN_predictions.csv')\n",
    "\n",
    "# Ensure we're working with the last column\n",
    "last_col_index = -1\n",
    "\n",
    "# Number of rows per chunk\n",
    "chunk_size = 20\n",
    "\n",
    "new_labels = []\n",
    "\n",
    "\n",
    "# # Create a new list to store the average mode values for each chunk\n",
    "# new_column_values = []\n",
    "\n",
    "# Iterate over chunks of 20 rows\n",
    "for start in range(0, len(df1), chunk_size):\n",
    "    end = min(start + chunk_size, len(df1))  # Handle the last chunk which may be smaller than 20\n",
    "    chunk1_last_col = df1.iloc[start:end, last_col_index]\n",
    "    chunk2_last_col = df2.iloc[start:end, last_col_index]\n",
    "\n",
    "    # Calculate the mode of the last column for both chunks\n",
    "    # mode1_result = mode(chunk1_last_col)\n",
    "    # mode2_result = mode(chunk2_last_col)\n",
    "\n",
    "    # mode1 = mode1_result.mode\n",
    "    # mode2 = mode2_result.mode\n",
    "    value_counts_1 = chunk1_last_col.value_counts()\n",
    "    value_counts_2 = chunk1_last_col.value_counts()\n",
    "    \n",
    "    # Get the least frequent value (the one with the smallest count)\n",
    "    mode1= value_counts_1.idxmin()\n",
    "    mode2= value_counts_2.idxmin()\n",
    "    \n",
    "\n",
    "    # print(mode1, mode2)\n",
    "\n",
    "    # Calculate the average of the two modes\n",
    "#     avg_mode = (mode1 + mode2) / 2\n",
    "#     new_column_values.extend([avg_mode] * (end - start)).astype(int)  # Repeat the average mode for the chunk length\n",
    "\n",
    "# # Add the new column to df1\n",
    "# df1['Attack_label'] = new_column_values[:len(df1)]  # Slice to match df1 length\n",
    "\n",
    "# # Save or display the updated dataframe\n",
    "# # print(df1.head())\n",
    "# df1.to_csv('updated_file1.csv', index=False)\n",
    "\n",
    "    # Average of the modes and round to 0 or 1\n",
    "    avg_label = round((mode1 + mode2) / 2)\n",
    "    \n",
    "    # Append the same label for each row in the chunk\n",
    "    new_labels.extend([avg_label] * (end - start))\n",
    "\n",
    "# Assign the new labels to the last column of df1 (or create a new column)\n",
    "df1 = df1.iloc[:len(new_labels)].copy()\n",
    "df1['Attack_label'] = np.array(new_labels).astype(int)  # Convert to int\n",
    "\n",
    "# Save result\n",
    "df1.to_csv('labeled_output.csv', index=False)\n",
    "print(\"Labeled output saved to 'labeled_output.csv'\")"
   ]
  },
  {
   "cell_type": "code",
   "execution_count": 5,
   "id": "5452c69b-ac61-41ae-a50e-b5fdffc2e352",
   "metadata": {},
   "outputs": [
    {
     "name": "stdout",
     "output_type": "stream",
     "text": [
      "Labeled output saved to 'labeled_output_1.csv'\n"
     ]
    }
   ],
   "source": [
    "import pandas as pd\n",
    "import numpy as np\n",
    "from scipy.stats import mode\n",
    "\n",
    "# Load the CSV files\n",
    "# df2 = pd.read_csv('predictions.csv')\n",
    "# df1 = pd.read_csv('../CNN_predictions.csv')\n",
    "\n",
    "\n",
    "df2 = pd.read_csv('presentation_predictions.csv')\n",
    "df1 = pd.read_csv('../presentation_CNN_predictions.csv')\n",
    "\n",
    "# Ensure we're working with the last column\n",
    "last_col_index = -1\n",
    "\n",
    "# Number of rows per chunk\n",
    "chunk_size = 10\n",
    "\n",
    "new_labels = []\n",
    "\n",
    "\n",
    "# # Create a new list to store the average mode values for each chunk\n",
    "# new_column_values = []\n",
    "\n",
    "# Iterate over chunks of 20 rows\n",
    "for start in range(0, len(df1), chunk_size):\n",
    "    end = min(start + chunk_size, len(df1))  # Handle the last chunk which may be smaller than 20\n",
    "    chunk1_last_col = df1.iloc[start:end, last_col_index]\n",
    "    chunk2_last_col = df2.iloc[start:end, last_col_index]\n",
    "\n",
    "    # Calculate the mode of the last column for both chunks\n",
    "    # mode1_result = mode(chunk1_last_col)\n",
    "    mode2_result = mode(chunk2_last_col)\n",
    "\n",
    "    # mode1 = mode1_result.mode\n",
    "\n",
    "    mode2 = mode2_result.mode\n",
    "    value_counts_1 = chunk1_last_col.value_counts()\n",
    "    # value_counts_2 = chunk2_last_col.value_counts()\n",
    "    \n",
    "    # Get the least frequent value (the one with the smallest count)\n",
    "    mode1= value_counts_1.idxmin()\n",
    "    # mode2= value_counts_2.idxmin()\n",
    "    \n",
    "\n",
    "    # print(mode1, mode2)\n",
    "\n",
    "    # Calculate the average of the two modes\n",
    "#     avg_mode = (mode1 + mode2) / 2\n",
    "#     new_column_values.extend([avg_mode] * (end - start)).astype(int)  # Repeat the average mode for the chunk length\n",
    "\n",
    "# # Add the new column to df1\n",
    "# df1['Attack_label'] = new_column_values[:len(df1)]  # Slice to match df1 length\n",
    "\n",
    "# # Save or display the updated dataframe\n",
    "# # print(df1.head())\n",
    "# df1.to_csv('updated_file1.csv', index=False)\n",
    "\n",
    "    # Average of the modes and round to 0 or 1\n",
    "    avg_label = round((mode1 + mode2) / 2)\n",
    "    \n",
    "    # Append the same label for each row in the chunk\n",
    "    new_labels.extend([avg_label] * (end - start))\n",
    "\n",
    "# Assign the new labels to the last column of df1 (or create a new column)\n",
    "df1 = df1.iloc[:len(new_labels)].copy()\n",
    "df1['Attack_label'] = np.array(new_labels).astype(int)  # Convert to int\n",
    "\n",
    "# Save result\n",
    "df1.to_csv('labeled_output_10chunk.csv', index=False)\n",
    "print(\"Labeled output saved to 'labeled_output_1.csv'\")"
   ]
  },
  {
   "cell_type": "code",
   "execution_count": 1,
   "id": "15838bae-78e4-49d6-af2c-196d8bc4edec",
   "metadata": {},
   "outputs": [],
   "source": [
    "!pip freeze > requirements.txt"
   ]
  }
 ],
 "metadata": {
  "kernelspec": {
   "display_name": "adi-kernel",
   "language": "python",
   "name": "adi-kernel"
  },
  "language_info": {
   "codemirror_mode": {
    "name": "ipython",
    "version": 3
   },
   "file_extension": ".py",
   "mimetype": "text/x-python",
   "name": "python",
   "nbconvert_exporter": "python",
   "pygments_lexer": "ipython3",
   "version": "3.12.6"
  }
 },
 "nbformat": 4,
 "nbformat_minor": 5
}
